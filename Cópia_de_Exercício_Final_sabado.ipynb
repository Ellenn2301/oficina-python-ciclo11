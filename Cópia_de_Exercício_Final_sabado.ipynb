{
  "nbformat": 4,
  "nbformat_minor": 0,
  "metadata": {
    "colab": {
      "provenance": [],
      "include_colab_link": true
    },
    "kernelspec": {
      "name": "python3",
      "display_name": "Python 3"
    },
    "language_info": {
      "name": "python"
    }
  },
  "cells": [
    {
      "cell_type": "markdown",
      "metadata": {
        "id": "view-in-github",
        "colab_type": "text"
      },
      "source": [
        "<a href=\"https://colab.research.google.com/github/Ellenn2301/oficina-python-ciclo11/blob/main/C%C3%B3pia_de_Exerc%C3%ADcio_Final_sabado.ipynb\" target=\"_parent\"><img src=\"https://colab.research.google.com/assets/colab-badge.svg\" alt=\"Open In Colab\"/></a>"
      ]
    },
    {
      "cell_type": "markdown",
      "source": [
        "# Contagem de Medalhas\n",
        "\n",
        "Crie um programa que receba o número de medalhas de ouro, prata e bronze de um país nas Olimpíadas e calcule o total de medalhas.\n",
        "Quando escrever 'sair', o programa deverá encerrar e mostrar na tela o ranking de medalhas no formato:"
      ],
      "metadata": {
        "id": "RQN1e5FZY6SZ"
      }
    },
    {
      "cell_type": "code",
      "source": [
        "#Ranking de medalhas:\n",
        "#Brasil: 7 medalhas\n",
        "#França: 6 medalhas\n",
        "#Argentina: 3 medalhas"
      ],
      "metadata": {
        "id": "gCq_KLHzZSzb"
      },
      "execution_count": null,
      "outputs": []
    },
    {
      "cell_type": "code",
      "execution_count": 8,
      "metadata": {
        "id": "AJJhjxiPTd5s",
        "colab": {
          "base_uri": "https://localhost:8080/"
        },
        "outputId": "f3fa170e-9145-4579-d3a4-870f7d9ea06e"
      },
      "outputs": [
        {
          "name": "stdout",
          "output_type": "stream",
          "text": [
            "Digite o nome do país (ou \"sair\" para encerrar o programa): br\n",
            "Digite o número de medalhas de ouro: 3\n",
            "Digite o número de medalhas de prata: 5\n",
            "Digite o número de medalhas de bronze: 8\n"
          ]
        }
      ],
      "source": [
        "# Resposta aqui54]8\n",
        "def total_medalhas(ouro, prata, bronze):\n",
        "  return ouro + prata + bronze\n",
        "pais = input('Digite o nome do país (ou \"sair\" para encerrar o programa): ')\n",
        "ouro = int(input('Digite o número de medalhas de ouro: '))\n",
        "prata = int(input('Digite o número de medalhas de prata: '))\n",
        "bronze = int(input('Digite o número de medalhas de bronze: '))\n",
        "\n",
        "total = total_medalhas(ouro, prata, bronze)\n",
        "\n",
        "print(f'O total de medalhas do país {pais} é {total}.')\n",
        "\n",
        "\n",
        "\n",
        "\n",
        "\n",
        "\n"
      ]
    }
  ]
}